{
 "cells": [
  {
   "cell_type": "code",
   "execution_count": 69,
   "metadata": {},
   "outputs": [],
   "source": [
    "import uuid\n",
    "import os\n",
    "from unittest.mock import patch"
   ]
  },
  {
   "cell_type": "code",
   "execution_count": 76,
   "metadata": {},
   "outputs": [],
   "source": [
    "def recipe_image_file_path(instance, filename):\n",
    "\n",
    "    ext = filename.split('.')[-1]\n",
    "    filename = f'{uuid_fun()}.{ext}'\n",
    "\n",
    "    return os.path.join('uploads/recipe/', filename)\n",
    "\n",
    "def uuid_fun():\n",
    "    return uuid.uuid4()\n"
   ]
  },
  {
   "cell_type": "code",
   "execution_count": 77,
   "metadata": {},
   "outputs": [
    {
     "name": "stderr",
     "output_type": "stream",
     "text": [
      "test_recipe_file_name_uuid (__main__.TestNotebook) ... "
     ]
    },
    {
     "name": "stdout",
     "output_type": "stream",
     "text": [
      "uploads/recipe/test-uuid.jpg\n"
     ]
    },
    {
     "name": "stderr",
     "output_type": "stream",
     "text": [
      "ok\n",
      "\n",
      "----------------------------------------------------------------------\n",
      "Ran 1 test in 0.003s\n",
      "\n",
      "OK\n"
     ]
    },
    {
     "data": {
      "text/plain": [
       "<unittest.main.TestProgram at 0x7f3d4560ae10>"
      ]
     },
     "execution_count": 77,
     "metadata": {},
     "output_type": "execute_result"
    }
   ],
   "source": [
    "import unittest\n",
    "\n",
    "class TestNotebook(unittest.TestCase):\n",
    "\n",
    "    @patch('uuid.uuid4')\n",
    "    def test_recipe_file_name_uuid(self, mock_uuid):\n",
    "\n",
    "        uuid = 'test-uuid'\n",
    "        mock_uuid.return_value = uuid\n",
    "        file_path = recipe_image_file_path(None, \"myimage.jpg\")\n",
    "\n",
    "        exp_file = f'uploads/recipe/{uuid}.jpg'\n",
    "        print(exp_file)\n",
    "        self.assertEqual(file_path, exp_file)\n",
    "\n",
    "unittest.main(argv=['first-arg-is-ignored'], verbosity=2, exit=False)"
   ]
  },
  {
   "cell_type": "code",
   "execution_count": null,
   "metadata": {},
   "outputs": [],
   "source": []
  }
 ],
 "metadata": {
  "kernelspec": {
   "display_name": "Python 3",
   "language": "python",
   "name": "python3"
  },
  "language_info": {
   "codemirror_mode": {
    "name": "ipython",
    "version": 3
   },
   "file_extension": ".py",
   "mimetype": "text/x-python",
   "name": "python",
   "nbconvert_exporter": "python",
   "pygments_lexer": "ipython3",
   "version": "3.6.10"
  }
 },
 "nbformat": 4,
 "nbformat_minor": 4
}
